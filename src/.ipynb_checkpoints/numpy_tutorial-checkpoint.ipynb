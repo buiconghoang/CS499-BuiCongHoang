{
 "cells": [
  {
   "cell_type": "code",
   "execution_count": 24,
   "metadata": {},
   "outputs": [
    {
     "name": "stdout",
     "output_type": "stream",
     "text": [
      "--------Test one-hot---------\n",
      "[6 9 6]\n",
      "[[0. 0. 0. 0. 0. 0. 1. 0. 0. 0.]\n",
      " [0. 0. 0. 0. 0. 0. 0. 0. 0. 1.]\n",
      " [0. 0. 0. 0. 0. 0. 1. 0. 0. 0.]]\n",
      "ont_hot using np.eye: \n",
      " [[0. 0. 0. 0. 0. 0. 1. 0. 0. 0.]\n",
      " [0. 0. 0. 0. 0. 0. 0. 0. 0. 1.]\n",
      " [0. 0. 0. 0. 0. 0. 1. 0. 0. 0.]]\n",
      "\n",
      "--------where method------\n",
      "x: [1 1 2 8 7 3 5 6 3 5]\n",
      "get index where: (array([0, 1], dtype=int64),)\n",
      "if x==min set x=0 elese set x =1 [0 0 1 1 1 1 1 1 1 1]\n"
     ]
    }
   ],
   "source": [
    "import numpy as np\n",
    "\n",
    "classes = 10\n",
    "\n",
    "# with where method\n",
    "print(\"--------Test one-hot---------\")\n",
    "np.random.seed(1)\n",
    "x=np.random.randint(1,10,size=3)\n",
    "print(x)\n",
    "size_x = x.shape[0]\n",
    "y= np.zeros(shape=(size_x,classes))\n",
    "y[np.arange(0,size_x),x]=1\n",
    "print(y)\n",
    "#cach 2:\n",
    "y= np.eye(classes)[x]\n",
    "print(\"ont_hot using np.eye: \\n\",y)\n",
    "\n",
    "#with where method\n",
    "print('\\n--------where method------')\n",
    "x=np.random.randint(1,10,size=10)\n",
    "min_x =np.min(x)\n",
    "print(f\"x: {x}\")\n",
    "print(f\"get index where: {np.where(x==min_x)}\")\n",
    "print(\"if x==min set x=0 elese set x =1\",np.where(x==min_x,0,1))"
   ]
  },
  {
   "cell_type": "code",
   "execution_count": 5,
   "metadata": {},
   "outputs": [
    {
     "data": {
      "text/plain": [
       "array([[1, 2, 1],\n",
       "       [4, 5, 1],\n",
       "       [7, 8, 1]])"
      ]
     },
     "execution_count": 5,
     "metadata": {},
     "output_type": "execute_result"
    }
   ],
   "source": [
    "y= np.arange(1,10).reshape(3,3)\n",
    "y[np.arange(0,3),[2,2,2]]=1\n",
    "y"
   ]
  },
  {
   "cell_type": "code",
   "execution_count": null,
   "metadata": {},
   "outputs": [],
   "source": []
  }
 ],
 "metadata": {
  "kernelspec": {
   "display_name": "Python 3",
   "language": "python",
   "name": "python3"
  },
  "language_info": {
   "codemirror_mode": {
    "name": "ipython",
    "version": 3
   },
   "file_extension": ".py",
   "mimetype": "text/x-python",
   "name": "python",
   "nbconvert_exporter": "python",
   "pygments_lexer": "ipython3",
   "version": "3.6.5"
  }
 },
 "nbformat": 4,
 "nbformat_minor": 2
}
