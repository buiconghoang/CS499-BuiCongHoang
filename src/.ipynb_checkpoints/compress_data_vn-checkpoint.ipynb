{
 "cells": [
  {
   "cell_type": "code",
   "execution_count": 56,
   "metadata": {},
   "outputs": [],
   "source": [
    "import numpy as np\n",
    "import cv2\n",
    "import os\n",
    "import pickle\n",
    "from sklearn.model_selection import train_test_split"
   ]
  },
  {
   "cell_type": "code",
   "execution_count": 70,
   "metadata": {},
   "outputs": [],
   "source": [
    "IMG_SIZE = 32\n",
    "def get_raw_data(path, split_data = 0.2):\n",
    "    lbs = []\n",
    "    ims = []\n",
    "    lbs_text = []\n",
    "    folders = os.listdir(path)\n",
    "    count_num_cls = 0;\n",
    "    for folder in folders:\n",
    "        folder_path = os.path.join(path,folder)\n",
    "        if not os.path.isdir(folder_path):\n",
    "            continue\n",
    "        files = os.listdir(folder_path)\n",
    "        count = 0\n",
    "        for file in files:\n",
    "            if not file.endswith('.JPG'):\n",
    "                continue\n",
    "            file_path = os.path.join(folder_path, file)\n",
    "            img  = cv2.imread(file_path)\n",
    "            img = cv2.resize(img,(IMG_SIZE,IMG_SIZE))\n",
    "            ims.append(img)\n",
    "            lbs.append(count_num_cls)\n",
    "            count = count + 1\n",
    "        lbs_text.append(folder)\n",
    "        count_num_cls = count_num_cls+1;\n",
    "        print(f'folder: {folder} contain {count} image!')\n",
    "    ims = np.asarray(ims)\n",
    "    lbs = np.asarray(lbs)\n",
    "    X_train, X_test, y_train, y_test = train_test_split(ims, lbs, test_size=split_data, shuffle =True)\n",
    "    data = {\n",
    "        'train': {\n",
    "            'ims': X_train,\n",
    "            'lbs': y_train,\n",
    "            'lb_text':lbs_text,\n",
    "        },\n",
    "        'vald':{\n",
    "            'ims':X_test,\n",
    "            'lbs':y_test,\n",
    "            'lb_text':lbs_text,\n",
    "\n",
    "        }\n",
    "    }\n",
    "    return data\n",
    "\n",
    "def save_file(data,pickle_fn):\n",
    "    with open(pickle_fn,'wb') as f:\n",
    "        pickle.dump(data,f)\n",
    "    print(f'done save_data into {pickle_fn}')\n",
    "def read_data(pickle_fn):\n",
    "    if os.path.isfile(pickle_fn):\n",
    "        data= pickle.load(open(pickle_fn,'rb'))\n",
    "        print(f'done read_dataa from {pickle_fn}')\n",
    "        return data\n",
    "    else:\n",
    "        raise Exception(f\"the path: {pickle_fn} is not found\")"
   ]
  },
  {
   "cell_type": "code",
   "execution_count": 71,
   "metadata": {},
   "outputs": [
    {
     "name": "stdout",
     "output_type": "stream",
     "text": [
      "folder: 102 contain 88 image!\n",
      "folder: 103a contain 23 image!\n",
      "folder: 103b contain 11 image!\n",
      "folder: 104 contain 74 image!\n",
      "folder: 105 contain 19 image!\n",
      "folder: 112 contain 13 image!\n",
      "folder: 123a contain 46 image!\n",
      "folder: 123b contain 46 image!\n",
      "folder: 124a contain 15 image!\n",
      "folder: 127_40 contain 29 image!\n",
      "folder: 127_50 contain 24 image!\n",
      "folder: 127_60 contain 36 image!\n",
      "folder: 127_80 contain 27 image!\n",
      "folder: 130 contain 153 image!\n",
      "folder: 131a contain 99 image!\n",
      "folder: 205d contain 14 image!\n",
      "folder: 207b contain 33 image!\n",
      "folder: 207c contain 10 image!\n",
      "folder: 208 contain 10 image!\n",
      "folder: 224 contain 35 image!\n",
      "folder: 225 contain 16 image!\n",
      "folder: 227 contain 23 image!\n",
      "folder: 239 contain 21 image!\n",
      "folder: 245a contain 37 image!\n",
      "folder: 302a contain 79 image!\n",
      "folder: 305 contain 10 image!\n",
      "folder: 407a contain 23 image!\n",
      "folder: 412b contain 14 image!\n"
     ]
    }
   ],
   "source": [
    "path = r\"../dataVN/28bienbao\"\n",
    "data = get_raw_data(path, 0.25)"
   ]
  },
  {
   "cell_type": "code",
   "execution_count": 74,
   "metadata": {},
   "outputs": [
    {
     "name": "stdout",
     "output_type": "stream",
     "text": [
      "y_trian: [ 0  1  2  3  4  5  6  7  8  9 10 11 12 13 14 15 16 17 18 19 20 21 22 23\n",
      " 24 25 26 27],\n",
      " shape: (771,)\n",
      "y_Vald: [ 0  1  2  3  4  5  6  7  8  9 10 11 12 13 14 15 16 17 18 19 20 21 22 23\n",
      " 24 25 26 27], \n",
      "shape: (257,)\n",
      "['102', '103a', '103b', '104', '105', '112', '123a', '123b', '124a', '127_40', '127_50', '127_60', '127_80', '130', '131a', '205d', '207b', '207c', '208', '224', '225', '227', '239', '245a', '302a', '305', '407a', '412b']\n"
     ]
    }
   ],
   "source": [
    "X_train = data['train']['ims']\n",
    "y_train = data['train']['lbs']\n",
    "X_vald = data['vald']['ims']\n",
    "y_vald = data['vald']['lbs']\n",
    "print(f'y_trian: {np.unique(y_train)},\\n shape: {y_train.shape}')\n",
    "print(f'y_Vald: {np.unique(y_vald)}, \\nshape: {y_vald.shape}')\n",
    "print(data['train']['lb_text'])"
   ]
  },
  {
   "cell_type": "code",
   "execution_count": 75,
   "metadata": {},
   "outputs": [
    {
     "name": "stdout",
     "output_type": "stream",
     "text": [
      "done save_data into ../data_pickle/data_vn_28_bienbao.p\n",
      "done read_dataa from ../data_pickle/data_vn_28_bienbao.p\n"
     ]
    }
   ],
   "source": [
    "path_save = r\"../data_pickle/data_vn_28_bienbao.p\"\n",
    "save_file(data,path_save)\n",
    "data_test = read_data(path_save)"
   ]
  },
  {
   "cell_type": "code",
   "execution_count": 76,
   "metadata": {},
   "outputs": [
    {
     "data": {
      "text/plain": [
       "(771, 32, 32, 3)"
      ]
     },
     "execution_count": 76,
     "metadata": {},
     "output_type": "execute_result"
    }
   ],
   "source": [
    "data_test['train']['ims'].shape"
   ]
  },
  {
   "cell_type": "code",
   "execution_count": null,
   "metadata": {},
   "outputs": [],
   "source": []
  },
  {
   "cell_type": "code",
   "execution_count": 91,
   "metadata": {},
   "outputs": [
    {
     "name": "stdout",
     "output_type": "stream",
     "text": [
      "../dataVN/Test/image_test/00000.png\n",
      "../dataVN/Test/image_test/00001.png\n",
      "../dataVN/Test/image_test/00002.png\n",
      "../dataVN/Test/image_test/00003.png\n",
      "../dataVN/Test/image_test/00004.png\n",
      "../dataVN/Test/image_test/00005.png\n",
      "../dataVN/Test/image_test/00006.png\n",
      "../dataVN/Test/image_test/00007.png\n",
      "../dataVN/Test/image_test/00008.png\n",
      "../dataVN/Test/image_test/00009.png\n",
      "../dataVN/Test/image_test/00010.png\n",
      "../dataVN/Test/image_test/00011.png\n",
      "../dataVN/Test/image_test/00012.png\n",
      "../dataVN/Test/image_test/00013.png\n",
      "../dataVN/Test/image_test/00014.png\n",
      "../dataVN/Test/image_test/00015.png\n",
      "../dataVN/Test/image_test/00016.png\n",
      "../dataVN/Test/image_test/00017.png\n",
      "../dataVN/Test/image_test/00018.png\n",
      "../dataVN/Test/image_test/00019.png\n",
      "../dataVN/Test/image_test/00020.png\n",
      "../dataVN/Test/image_test/00021.png\n",
      "../dataVN/Test/image_test/00022.png\n",
      "../dataVN/Test/image_test/00023.png\n",
      "../dataVN/Test/image_test/00024.png\n",
      "../dataVN/Test/image_test/00025.png\n",
      "../dataVN/Test/image_test/00026.png\n",
      "../dataVN/Test/image_test/00027.png\n",
      "../dataVN/Test/image_test/00028.png\n",
      "../dataVN/Test/image_test/00029.png\n",
      "../dataVN/Test/image_test/00030.png\n",
      "../dataVN/Test/image_test/00031.png\n",
      "../dataVN/Test/image_test/00032.png\n",
      "../dataVN/Test/image_test/00033.png\n",
      "../dataVN/Test/image_test/00034.png\n",
      "../dataVN/Test/image_test/00035.png\n",
      "../dataVN/Test/image_test/00036.png\n",
      "../dataVN/Test/image_test/00037.png\n",
      "../dataVN/Test/image_test/00038.png\n",
      "../dataVN/Test/image_test/00039.png\n",
      "../dataVN/Test/image_test/00040.png\n",
      "../dataVN/Test/image_test/00041.png\n",
      "../dataVN/Test/image_test/00042.png\n",
      "../dataVN/Test/image_test/00043.png\n",
      "../dataVN/Test/image_test/00044.png\n",
      "../dataVN/Test/image_test/00045.png\n",
      "../dataVN/Test/image_test/00046.png\n",
      "../dataVN/Test/image_test/00047.png\n",
      "../dataVN/Test/image_test/00048.png\n",
      "../dataVN/Test/image_test/00049.png\n",
      "../dataVN/Test/image_test/00050.png\n",
      "../dataVN/Test/image_test/00051.png\n",
      "../dataVN/Test/image_test/00052.png\n",
      "../dataVN/Test/image_test/00053.png\n",
      "../dataVN/Test/image_test/00054.png\n",
      "../dataVN/Test/image_test/00055.png\n",
      "../dataVN/Test/image_test/00056.png\n",
      "../dataVN/Test/image_test/00057.png\n",
      "../dataVN/Test/image_test/00058.png\n",
      "../dataVN/Test/image_test/00059.png\n",
      "../dataVN/Test/image_test/00060.png\n",
      "../dataVN/Test/image_test/00061.png\n",
      "../dataVN/Test/image_test/00062.png\n",
      "../dataVN/Test/image_test/00063.png\n",
      "../dataVN/Test/image_test/00064.png\n",
      "../dataVN/Test/image_test/00065.png\n",
      "../dataVN/Test/image_test/00066.png\n",
      "../dataVN/Test/image_test/00067.png\n",
      "../dataVN/Test/image_test/00068.png\n",
      "../dataVN/Test/image_test/00069.png\n",
      "../dataVN/Test/image_test/00070.png\n",
      "../dataVN/Test/image_test/00071.png\n",
      "../dataVN/Test/image_test/00072.png\n",
      "../dataVN/Test/image_test/00073.png\n",
      "../dataVN/Test/image_test/00074.png\n",
      "../dataVN/Test/image_test/00075.png\n",
      "../dataVN/Test/image_test/00076.png\n",
      "../dataVN/Test/image_test/00077.png\n",
      "../dataVN/Test/image_test/00078.png\n",
      "../dataVN/Test/image_test/00079.png\n",
      "../dataVN/Test/image_test/00080.png\n",
      "../dataVN/Test/image_test/00081.png\n",
      "../dataVN/Test/image_test/00082.png\n",
      "../dataVN/Test/image_test/00083.png\n",
      "../dataVN/Test/image_test/00084.png\n",
      "../dataVN/Test/image_test/00085.png\n",
      "../dataVN/Test/image_test/00086.png\n",
      "../dataVN/Test/image_test/00087.png\n",
      "../dataVN/Test/image_test/00088.png\n",
      "../dataVN/Test/image_test/00089.png\n",
      "../dataVN/Test/image_test/00090.png\n",
      "../dataVN/Test/image_test/00091.png\n",
      "../dataVN/Test/image_test/00092.png\n",
      "../dataVN/Test/image_test/00093.png\n",
      "../dataVN/Test/image_test/00094.png\n",
      "../dataVN/Test/image_test/00095.png\n",
      "../dataVN/Test/image_test/00096.png\n",
      "../dataVN/Test/image_test/00097.png\n",
      "../dataVN/Test/image_test/00098.png\n",
      "../dataVN/Test/image_test/00099.png\n",
      "../dataVN/Test/image_test/00100.png\n",
      "../dataVN/Test/image_test/00101.png\n",
      "../dataVN/Test/image_test/00102.png\n",
      "../dataVN/Test/image_test/00103.png\n",
      "../dataVN/Test/image_test/00104.png\n",
      "../dataVN/Test/image_test/00105.png\n"
     ]
    }
   ],
   "source": [
    "def save_image(path):\n",
    "    path_save = r'C:\\Users\\Bui Huy\\traffic_sign_project\\dataVN\\image_test'\n",
    "    files  = os.listdir(path)\n",
    "    for file in files:\n",
    "        if not file.endswith('.ppm'):\n",
    "            continue\n",
    "        img_path = os.path.join(path, file)\n",
    "        img = cv2.imread(img_path)\n",
    "#         print(img.shape)\n",
    "        file_name = file.split('.')[0]\n",
    "        file_name = file_name+'.png'\n",
    "        path_save_img = path_save+\"/\"+file_name\n",
    "        print(path_save_img)\n",
    "        cv2.imwrite(path_save_img, img)\n",
    "        \n",
    "save_image(r'../dataVN/Test')"
   ]
  },
  {
   "cell_type": "code",
   "execution_count": null,
   "metadata": {},
   "outputs": [],
   "source": []
  }
 ],
 "metadata": {
  "kernelspec": {
   "display_name": "Python 3",
   "language": "python",
   "name": "python3"
  },
  "language_info": {
   "codemirror_mode": {
    "name": "ipython",
    "version": 3
   },
   "file_extension": ".py",
   "mimetype": "text/x-python",
   "name": "python",
   "nbconvert_exporter": "python",
   "pygments_lexer": "ipython3",
   "version": "3.6.7"
  }
 },
 "nbformat": 4,
 "nbformat_minor": 2
}
