{
 "cells": [
  {
   "cell_type": "code",
   "execution_count": 14,
   "metadata": {},
   "outputs": [],
   "source": [
    "class A(object):\n",
    "    def _private_method(self):\n",
    "        x=10\n",
    "        print(\"private method x: \",x)\n",
    "        return x\n",
    "    def get_private_method(self):\n",
    "        var = self._private_method()\n",
    "        print(\"get value of private method: \",var)\n",
    "    def test(self):\n",
    "        print(\"test method\")\n",
    "#     var1 = _private_method();\n",
    "    def __private_method_2(self):\n",
    "        x=2\n",
    "        print(\"pm2 x: \",x)\n",
    "        return x\n"
   ]
  },
  {
   "cell_type": "code",
   "execution_count": 15,
   "metadata": {},
   "outputs": [
    {
     "name": "stdout",
     "output_type": "stream",
     "text": [
      "private method x:  10\n",
      "get value of private method:  10\n"
     ]
    }
   ],
   "source": [
    "a = A()\n",
    "a.get_private_method()\n",
    "a.__private_method_2"
   ]
  },
  {
   "cell_type": "code",
   "execution_count": null,
   "metadata": {},
   "outputs": [],
   "source": []
  },
  {
   "cell_type": "code",
   "execution_count": null,
   "metadata": {},
   "outputs": [],
   "source": []
  }
 ],
 "metadata": {
  "kernelspec": {
   "display_name": "Python 3",
   "language": "python",
   "name": "python3"
  },
  "language_info": {
   "codemirror_mode": {
    "name": "ipython",
    "version": 3
   },
   "file_extension": ".py",
   "mimetype": "text/x-python",
   "name": "python",
   "nbconvert_exporter": "python",
   "pygments_lexer": "ipython3",
   "version": "3.6.5"
  }
 },
 "nbformat": 4,
 "nbformat_minor": 2
}
