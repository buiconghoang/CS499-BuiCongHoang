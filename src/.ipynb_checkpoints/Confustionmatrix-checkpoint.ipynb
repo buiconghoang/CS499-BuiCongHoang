{
 "cells": [
  {
   "cell_type": "code",
   "execution_count": 9,
   "metadata": {},
   "outputs": [
    {
     "name": "stdout",
     "output_type": "stream",
     "text": [
      "30\n"
     ]
    }
   ],
   "source": [
    "x = lambda a, b : a * b\n",
    "print(x(5, 6))"
   ]
  },
  {
   "cell_type": "code",
   "execution_count": 17,
   "metadata": {},
   "outputs": [
    {
     "name": "stdout",
     "output_type": "stream",
     "text": [
      "[1]\n",
      "[1, 2]\n",
      "[1, 2, 3]\n",
      "[1, 2, 3, 1]\n"
     ]
    }
   ],
   "source": [
    "def f(a, L=[]):\n",
    "    if L is None:\n",
    "        L = []\n",
    "    L.append(a)\n",
    "    return L\n",
    "print(f(1))\n",
    "print(f(2))\n",
    "\n",
    "print(f(3))\n",
    "print(f(1))\n",
    "\n"
   ]
  },
  {
   "cell_type": "code",
   "execution_count": 21,
   "metadata": {},
   "outputs": [
    {
     "ename": "SyntaxError",
     "evalue": "no binding for nonlocal 'y' found (<ipython-input-21-41e8cddc49ee>, line 9)",
     "output_type": "error",
     "traceback": [
      "\u001b[1;36m  File \u001b[1;32m\"<ipython-input-21-41e8cddc49ee>\"\u001b[1;36m, line \u001b[1;32m9\u001b[0m\n\u001b[1;33m    nonlocal y\u001b[0m\n\u001b[1;37m    ^\u001b[0m\n\u001b[1;31mSyntaxError\u001b[0m\u001b[1;31m:\u001b[0m no binding for nonlocal 'y' found\n"
     ]
    }
   ],
   "source": [
    "x=10\n",
    "class A(object):\n",
    "    y=1\n",
    "    def printx(self):\n",
    "        global x\n",
    "        x=x+10\n",
    "        print('x',x)\n",
    "    def printy(self):\n",
    "        nonlocal y\n",
    "        print(\"y: \",y)\n",
    "    \n",
    "    "
   ]
  },
  {
   "cell_type": "code",
   "execution_count": 20,
   "metadata": {},
   "outputs": [
    {
     "name": "stdout",
     "output_type": "stream",
     "text": [
      "x 20\n",
      "y:  1\n"
     ]
    }
   ],
   "source": [
    "a =A()\n",
    "a.printx()\n",
    "a.printy()"
   ]
  },
  {
   "cell_type": "code",
   "execution_count": 29,
   "metadata": {},
   "outputs": [],
   "source": [
    "class A:\n",
    "    x=10\n",
    "    def __init__(self):\n",
    "        self.x =self.x\n",
    "    def printx(self):\n",
    "        self.x+=1\n",
    "        print(\"class A x: \",self.x)\n",
    "class B(A):\n",
    "    def __init__(self):\n",
    "        pass\n",
    "#     def printx(self):\n",
    "        \n",
    "#         print(\"class B x: \",self.x)"
   ]
  },
  {
   "cell_type": "code",
   "execution_count": 30,
   "metadata": {},
   "outputs": [],
   "source": [
    " from math import pi, sin\n",
    ">>>sine_table = {x: sin(x*pi/180) for x in range(0, 91)}"
   ]
  },
  {
   "cell_type": "code",
   "execution_count": 2,
   "metadata": {},
   "outputs": [],
   "source": [
    "import numpy as np"
   ]
  },
  {
   "cell_type": "code",
   "execution_count": 21,
   "metadata": {},
   "outputs": [
    {
     "name": "stdout",
     "output_type": "stream",
     "text": [
      "a1:  [array([[[ 1,  2,  3],\n",
      "        [ 4,  5,  6]],\n",
      "\n",
      "       [[ 7,  8,  9],\n",
      "        [10, 11, 12]],\n",
      "\n",
      "       [[13, 14, 15],\n",
      "        [16, 17, 18]],\n",
      "\n",
      "       [[19, 20, 21],\n",
      "        [22, 23, 24]]]), array([[[25, 26, 27],\n",
      "        [28, 29, 30]],\n",
      "\n",
      "       [[31, 32, 33],\n",
      "        [34, 35, 36]],\n",
      "\n",
      "       [[37, 38, 39],\n",
      "        [40, 41, 42]],\n",
      "\n",
      "       [[43, 44, 45],\n",
      "        [46, 47, 48]]])]\n",
      "a2:  [array([[[ 1,  2,  3],\n",
      "        [ 4,  5,  6]],\n",
      "\n",
      "       [[ 7,  8,  9],\n",
      "        [10, 11, 12]],\n",
      "\n",
      "       [[13, 14, 15],\n",
      "        [16, 17, 18]],\n",
      "\n",
      "       [[19, 20, 21],\n",
      "        [22, 23, 24]]]), array([[[25, 26, 27],\n",
      "        [28, 29, 30]],\n",
      "\n",
      "       [[31, 32, 33],\n",
      "        [34, 35, 36]],\n",
      "\n",
      "       [[37, 38, 39],\n",
      "        [40, 41, 42]],\n",
      "\n",
      "       [[43, 44, 45],\n",
      "        [46, 47, 48]]]), array([[[ 1,  2,  3],\n",
      "        [ 4,  5,  6]],\n",
      "\n",
      "       [[ 7,  8,  9],\n",
      "        [10, 11, 12]],\n",
      "\n",
      "       [[13, 14, 15],\n",
      "        [16, 17, 18]],\n",
      "\n",
      "       [[19, 20, 21],\n",
      "        [22, 23, 24]]])]\n",
      "(3, 4, 2, 3)\n"
     ]
    }
   ],
   "source": [
    "x= np.arange(1,25).reshape(1,4,2,3)\n",
    "y=np.arange(1,49).reshape(2,4,2,3)\n",
    "\n",
    "a=[]\n",
    "a.extend(y)\n",
    "print(\"a1: \",a)\n",
    "\n",
    "a.extend(x)\n",
    "print('a2: ',a)\n",
    "\n",
    "a= np.asarray(a)\n",
    "print(a.shape)"
   ]
  },
  {
   "cell_type": "code",
   "execution_count": null,
   "metadata": {},
   "outputs": [],
   "source": []
  },
  {
   "cell_type": "code",
   "execution_count": null,
   "metadata": {},
   "outputs": [],
   "source": []
  }
 ],
 "metadata": {
  "kernelspec": {
   "display_name": "Python 3",
   "language": "python",
   "name": "python3"
  },
  "language_info": {
   "codemirror_mode": {
    "name": "ipython",
    "version": 3
   },
   "file_extension": ".py",
   "mimetype": "text/x-python",
   "name": "python",
   "nbconvert_exporter": "python",
   "pygments_lexer": "ipython3",
   "version": "3.6.5"
  }
 },
 "nbformat": 4,
 "nbformat_minor": 2
}
