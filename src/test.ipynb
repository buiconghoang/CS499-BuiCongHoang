{
 "cells": [
  {
   "cell_type": "code",
   "execution_count": 19,
   "metadata": {},
   "outputs": [
    {
     "name": "stdout",
     "output_type": "stream",
     "text": [
      "['Filename', 'Width', 'Height', 'Roi.X1', 'Roi.Y1', 'Roi.X2', 'Roi.Y2', 'ClassId']\n",
      "(12630,)\n",
      "(12630, 32, 32, 1)\n"
     ]
    }
   ],
   "source": [
    "\"\"\"read file test\"\"\"\n",
    "import pandas as pd\n",
    "import os\n",
    "import cv2\n",
    "import numpy as np\n",
    "test = pd.read_csv(r\"..\\data\\test\\GTSRB\\GT-final_test.csv\", sep=';')\n",
    "\n",
    "# Load test dataset\n",
    "X_test = []\n",
    "y_test = []\n",
    "i = 0\n",
    "print(list(test))\n",
    "# print(list(test['Filename']))\n",
    "# print(list(test['ClassId']))\n",
    "\n",
    "for file_name,roi_x1,roi_y1,roi_x2,roi_y2,class_id in zip(list(test['Filename']),\n",
    "                                                          list(test['Roi.X1']),\n",
    "                                                          list(test['Roi.Y1']),\n",
    "                                                          list(test['Roi.X2']),\n",
    "                                                          list(test['Roi.Y2']),\n",
    "                                                          list(test['ClassId']) ):\n",
    "    img_path = os.path.join(r'..\\data\\test\\GTSRB', file_name)\n",
    "#     print(img_path)\n",
    "    img = cv2.imread(img_path)\n",
    "    img = img[roi_y1:roi_y2,roi_x1:roi_x2,:]\n",
    "    img = cv2.resize(img,(32,32))\n",
    "    red_channel =img[:,:,0]\n",
    "    green_channel = img[:,:,1]\n",
    "    blue_channel = img[:,:,2]\n",
    "\n",
    "    #convert image to gray by red, greeen, blue channel\n",
    "    gray_img = 0.2989 * red_channel + 0.5870 * green_channel + 0.1140 * blue_channel\n",
    "\n",
    "    if (np.max(gray_img)>1):\n",
    "        gray_img = gray_img/255.\n",
    "  \n",
    "    X_test.append(gray_img)\n",
    "    y_test.append(class_id)\n",
    "\n",
    "X_test = np.array(X_test)\n",
    "X_test=X_test.reshape(X_test.shape +(1,))\n",
    "y_test = np.array(y_test)\n",
    "print(y_test.shape)\n",
    "print(X_test.shape)\n"
   ]
  },
  {
   "cell_type": "code",
   "execution_count": 55,
   "metadata": {},
   "outputs": [
    {
     "name": "stdout",
     "output_type": "stream",
     "text": [
      "(32, 32, 1)\n"
     ]
    },
    {
     "data": {
      "text/plain": [
       "<matplotlib.image.AxesImage at 0x2c3000d1da0>"
      ]
     },
     "execution_count": 55,
     "metadata": {},
     "output_type": "execute_result"
    },
    {
     "data": {
      "image/png": "[encoded data removed]",
      "text/plain": [
       "<Figure size 432x288 with 1 Axes>"
      ]
     },
     "metadata": {},
     "output_type": "display_data"
    }
   ],
   "source": [
    "%matplotlib inline\n",
    "import matplotlib.pyplot as plt\n",
    "import matplotlib.image as mpimg\n",
    "import numpy as np\n",
    "print(X_test[1].shape)\n",
    "plt.imshow(X_test[0].reshape(32,32),cmap='gray')"
   ]
  },
  {
   "cell_type": "code",
   "execution_count": 21,
   "metadata": {},
   "outputs": [],
   "source": [
    "import keras \n",
    "from keras.models import load_model\n",
    "model = load_model('..\\my_model.h5')\n",
    "y_pred = model.predict_classes(X_test,batch_size=100)"
   ]
  },
  {
   "cell_type": "code",
   "execution_count": 25,
   "metadata": {},
   "outputs": [
    {
     "name": "stdout",
     "output_type": "stream",
     "text": [
      "[16  1 38 ...  6  7 10]\n",
      "Test accuracy = 0.9817893903404592\n"
     ]
    }
   ],
   "source": [
    "print(y_pred)\n",
    "acc = np.sum(y_pred == y_test) / np.size(y_pred)\n",
    "print(\"Test accuracy = {}\".format(acc))"
   ]
  },
  {
   "cell_type": "code",
   "execution_count": 57,
   "metadata": {},
   "outputs": [
    {
     "name": "stdout",
     "output_type": "stream",
     "text": [
      "(334, 500, 3)\n",
      "(32, 32)\n",
      "(32, 32, 1)\n",
      "(1, 32, 32, 1)\n",
      "[8]\n"
     ]
    },
    {
     "data": {
      "image/png": "[encoded data removed]",
      "text/plain": [
       "<Figure size 432x288 with 1 Axes>"
      ]
     },
     "metadata": {},
     "output_type": "display_data"
    }
   ],
   "source": [
    "x=r\"real_data_test\\c30_2.jpg\"\n",
    "\n",
    "\n",
    "img =cv2.imread(x)\n",
    "print(img.shape)\n",
    "img = cv2.cvtColor(img,cv2.COLOR_RGB2GRAY)\n",
    "\n",
    "img = cv2.resize(img,(32,32))\n",
    "print(img.shape)\n",
    "img=img/255.\n",
    "plt.imshow(img)\n",
    "img = img.reshape(img.shape +(1,))\n",
    "print(img.shape)\n",
    "img=img.reshape(-1,32,32,1)\n",
    "print(img.shape)\n",
    "y_pred =model.predict_classes(img)\n",
    "print(y_pred)"
   ]
  },
  {
   "cell_type": "code",
   "execution_count": null,
   "metadata": {},
   "outputs": [],
   "source": []
  }
 ],
 "metadata": {
  "kernelspec": {
   "display_name": "Python 3",
   "language": "python",
   "name": "python3"
  },
  "language_info": {
   "codemirror_mode": {
    "name": "ipython",
    "version": 3
   },
   "file_extension": ".py",
   "mimetype": "text/x-python",
   "name": "python",
   "nbconvert_exporter": "python",
   "pygments_lexer": "ipython3",
   "version": "3.6.4"
  }
 },
 "nbformat": 4,
 "nbformat_minor": 2
}
