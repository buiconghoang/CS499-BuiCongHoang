{
 "cells": [
  {
   "cell_type": "code",
   "execution_count": 1,
   "metadata": {},
   "outputs": [
    {
     "name": "stderr",
     "output_type": "stream",
     "text": [
      "D:\\Anaconda\\lib\\site-packages\\h5py\\__init__.py:36: FutureWarning: Conversion of the second argument of issubdtype from `float` to `np.floating` is deprecated. In future, it will be treated as `np.float64 == np.dtype(float).type`.\n",
      "  from ._conv import register_converters as _register_converters\n",
      "Using TensorFlow backend.\n"
     ]
    }
   ],
   "source": [
    "import os\n",
    "import numpy as np\n",
    "import cv2\n",
    "import keras.utils \n",
    "%matplotlib inline\n",
    "import matplotlib.pyplot as plt\n",
    "import pickle\n",
    "from sklearn.model_selection import train_test_split\n",
    "from sklearn.utils import shuffle\n",
    "import math\n",
    "import pandas as pd"
   ]
  },
  {
   "cell_type": "code",
   "execution_count": 2,
   "metadata": {
    "scrolled": true
   },
   "outputs": [],
   "source": [
    "def read_data_info_from_csv(csv_path,save_path,is_crop=False):\n",
    "    \"\"\"\n",
    "    #Argument:\n",
    "        csv_path: path of file csv that container information of data per class \n",
    "        (ex: file name, size, roi.x, roi.y, class id)\n",
    "    #Return:\n",
    "        images, labels, number image of class\n",
    "        type: list\n",
    "    \"\"\"\n",
    "    print(csv_path)\n",
    "    images =[]\n",
    "    labels=[]\n",
    "    data_info_csv = pd.read_csv(csv_path, sep=';')\n",
    "    num_img_of_class = len(data_info_csv[\"Filename\"])\n",
    "    parent_dir_name =os.path.dirname(csv_path)\n",
    "    \n",
    "    for i in range(num_img_of_class):\n",
    "        #read information of csv file\n",
    "#         0000_000.ppm\n",
    "        img_name = data_info_csv[\"Filename\"][i]\n",
    "#         0000_000\n",
    "        img_name_without_extension = img_name.split('.')[0]\n",
    "#         print(img_name_without_extension)\n",
    "        img_suffix=\".png\"\n",
    "        img_save_path = os.path.join(save_path,img_name_without_extension+img_suffix)\n",
    "#         print(img_save_path)\n",
    "\n",
    "        roi_x1=data_info_csv['Roi.X1'][i]\n",
    "        roi_y1 = data_info_csv['Roi.Y1'][i]\n",
    "        roi_x2 =data_info_csv['Roi.X2'][i]\n",
    "        roi_y2 =data_info_csv['Roi.Y2'][i]\n",
    "        label = data_info_csv['ClassId'][i]\n",
    "        img_path = os.path.join(parent_dir_name,img_name)\n",
    "        image = cv2.imread(img_path)\n",
    "        cv2.imwrite(img_save_path,image)\n",
    "        if is_crop:\n",
    "             image = image[roi_y1:roi_y2,roi_x1:roi_x2,:]\n",
    "        image = cv2.resize(image,(32,32))\n",
    "        images.append(image)\n",
    "        labels.append(label)\n",
    "    \n",
    "    return  images,labels,num_img_of_class\n",
    "\n",
    "def read_data(data_dir,is_crop=False):\n",
    "    \"\"\"\n",
    "    #argument:\n",
    "        data_dir: path of directory\n",
    "    #return:\n",
    "        images, labels, number of sample\n",
    "    \"\"\"\n",
    "     # Get all subdirectories of data_dir. Each represents a label.\n",
    "    directories = [d for d in os.listdir(data_dir) \n",
    "                   if os.path.isdir(os.path.join(data_dir, d))]\n",
    "     # Loop through the label directories and collect the data in\n",
    "    # two lists, labels and images.\n",
    "    print(f\"directories: {directories}\")\n",
    "    labels = []\n",
    "    images = []\n",
    "    num_sample =0;\n",
    "    num_classes =0;\n",
    "    total_num_img =0\n",
    "    for index,d in enumerate(directories):\n",
    "        label_dir = os.path.join(data_dir, d)\n",
    "#         print(os.path.dirname(os.getcwd()))\n",
    "        save_path =os.path.join(os.path.dirname(os.getcwd()),\"imagedata\",d)\n",
    "        print(save_path)\n",
    "\n",
    "        if not os.path.isdir(save_path):\n",
    "            os.makedirs(save_path)\n",
    "        #find path data information in csv file   \n",
    "        path_info_data_csv = [os.path.join(label_dir, f)  for f in os.listdir(label_dir) if f.endswith(\".csv\")]\n",
    "        \n",
    "        for fn_csv in path_info_data_csv:      \n",
    "            imgs, lbs,num_img_of_class = read_data_info_from_csv(fn_csv,save_path,is_crop)\n",
    "            total_num_img = total_num_img+num_img_of_class;\n",
    "    \n",
    "            images.extend(imgs)\n",
    "            labels.extend(lbs)\n",
    "            \n",
    "            print(f\"index_name: {index}, directory : {d}, total number of image: {num_img_of_class}\")\n",
    "        num_classes=num_classes+1; \n",
    "    print(f\"total_num_img: {total_num_img}\")\n",
    "    \n",
    "    #read label's name\n",
    " \n",
    "\n",
    "    images= np.asarray(images)\n",
    "    labels = np.asarray(labels)\n",
    "    \n",
    "    return images, labels,num_classes\n",
    "\n"
   ]
  },
  {
   "cell_type": "code",
   "execution_count": null,
   "metadata": {},
   "outputs": [],
   "source": [
    "data_train_dir=r\"..\\data\\train\\GTSRB\"\n",
    "_,_,_ = read_data(data_train_dir,is_crop=False)"
   ]
  },
  {
   "cell_type": "code",
   "execution_count": 85,
   "metadata": {},
   "outputs": [
    {
     "name": "stdout",
     "output_type": "stream",
     "text": [
      "done read_dataa from primitive\\data_30_09.p\n"
     ]
    }
   ],
   "source": [
    "import pickle  \n",
    "def read_data_enhancement(file_name):\n",
    "    \"\"\"\n",
    "    #argument: \n",
    "        file_name: file's name is loaded\n",
    "    #return: \n",
    "        images, labels\n",
    "    \"\"\"\n",
    "    pickle_fn = os.path.join(r\"..\\data_enhancement\",file_name)\n",
    "    if os.path.isfile(pickle_fn):\n",
    "        data= pickle.load(open(pickle_fn,'rb'))\n",
    "        print(f'done read_dataa from {file_name}')\n",
    "        return data\n",
    "    else:\n",
    "        raise Exception(\"the file data enhancement is not found\")\n",
    "data = read_data_enhancement('primitive\\data_30_09.p')"
   ]
  },
  {
   "cell_type": "code",
   "execution_count": 88,
   "metadata": {},
   "outputs": [
    {
     "name": "stdout",
     "output_type": "stream",
     "text": [
      "1.0\n"
     ]
    }
   ],
   "source": [
    "type(data)\n",
    "data.keys()\n",
    "lbs = data['lbs']\n",
    "print(np.max(data['ims']))"
   ]
  },
  {
   "cell_type": "code",
   "execution_count": 97,
   "metadata": {
    "scrolled": true
   },
   "outputs": [],
   "source": [
    "def save_img(file_path_read):\n",
    "    data = read_data_enhancement(file_path_read)\n",
    "    lbs =data['lbs']\n",
    "   \n",
    "    ims = data['ims']\n",
    "    print(lbs.shape)\n",
    "    print(ims.shape)\n",
    "    save_path_base = os.path.join(os.path.dirname(os.getcwd()),\"image\\\\full\")\n",
    "    if not os.path.isdir(save_path_base):\n",
    "        os.makedirs(save_path_base)\n",
    "    for i, lb in enumerate(lbs):\n",
    "        save_path = os.path.join(save_path_base,str(lb))\n",
    "        if not os.path.isdir(save_path):\n",
    "            os.makedirs(save_path)\n",
    "        img_save_path = os.path.join(save_path,str(i)+\".png\")\n",
    "        cv2.imwrite(img_save_path,ims[i]*255.)"
   ]
  },
  {
   "cell_type": "code",
   "execution_count": 98,
   "metadata": {},
   "outputs": [
    {
     "name": "stdout",
     "output_type": "stream",
     "text": [
      "done read_dataa from full\\data_3009.p\n",
      "(146545,)\n",
      "(146545, 32, 32, 3)\n"
     ]
    }
   ],
   "source": [
    "save_img('full\\data_3009.p')"
   ]
  },
  {
   "cell_type": "code",
   "execution_count": 7,
   "metadata": {},
   "outputs": [
    {
     "name": "stdout",
     "output_type": "stream",
     "text": [
      "..\\data\\test\\GTSRB\\GT_final_test.csv\n"
     ]
    }
   ],
   "source": [
    "\"\"\"image test\"\"\"\n",
    "\n",
    "_,_,_ = read_data_info_from_csv(r\"..\\data\\test\\GTSRB\\GT_final_test.csv\",r\"..\\image\\test\")"
   ]
  },
  {
   "cell_type": "code",
   "execution_count": null,
   "metadata": {},
   "outputs": [],
   "source": [
    "def save_image_test(csv_path,save_path,is_crop=False):\n",
    "    \"\"\"\n",
    "    #Argument:\n",
    "        csv_path: path of file csv that container information of data per class \n",
    "        (ex: file name, size, roi.x, roi.y, class id)\n",
    "    #Return:\n",
    "        images, labels, number image of class\n",
    "        type: list\n",
    "    \"\"\"\n",
    "    print(csv_path)\n",
    "    data_info_csv = pd.read_csv(csv_path, sep=';')\n",
    "    num_img_of_class = len(data_info_csv[\"Filename\"])\n",
    "    parent_dir_name =os.path.dirname(csv_path)\n",
    "    \n",
    "    for i in range(num_img_of_class):\n",
    "        img_name = data_info_csv[\"Filename\"][i]\n",
    "#         0000_000\n",
    "       \n",
    "#         print(img_save_path)\n",
    "\n",
    "        roi_x1=data_info_csv['Roi.X1'][i]\n",
    "        roi_y1 = data_info_csv['Roi.Y1'][i]\n",
    "        roi_x2 =data_info_csv['Roi.X2'][i]\n",
    "        roi_y2 =data_info_csv['Roi.Y2'][i]\n",
    "        label = data_info_csv['ClassId'][i]\n",
    "       \n",
    "        img_name_without_extension = img_name.split('.')[0]\n",
    "        img_suffix=\".png\"\n",
    "        save_path_base = os.path.join(save_path,str(label))\n",
    "        if not os.path.isdir(save_path_base):\n",
    "            os.makedirs(save_path_base)\n",
    "        img_save_path = os.path.join(save_path_base,img_name_without_extension+img_suffix)\n",
    "        img_path = os.path.join(parent_dir_name,img_name)\n",
    "        image = cv2.imread(img_path)\n",
    "        cv2.imwrite(img_save_path,image)\n",
    "\n",
    "save_image_test(r\"..\\data\\test\\GTSRB\\GT_final_test.csv\",r\"..\\image\\test_v2\")"
   ]
  },
  {
   "cell_type": "code",
   "execution_count": null,
   "metadata": {},
   "outputs": [],
   "source": []
  }
 ],
 "metadata": {
  "kernelspec": {
   "display_name": "Python 3",
   "language": "python",
   "name": "python3"
  },
  "language_info": {
   "codemirror_mode": {
    "name": "ipython",
    "version": 3
   },
   "file_extension": ".py",
   "mimetype": "text/x-python",
   "name": "python",
   "nbconvert_exporter": "python",
   "pygments_lexer": "ipython3",
   "version": "3.6.4"
  }
 },
 "nbformat": 4,
 "nbformat_minor": 2
}
