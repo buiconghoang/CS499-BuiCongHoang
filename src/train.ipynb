{
 "cells": [
  {
   "cell_type": "code",
   "execution_count": 1,
   "metadata": {},
   "outputs": [
    {
     "name": "stderr",
     "output_type": "stream",
     "text": [
      "Using TensorFlow backend.\n"
     ]
    }
   ],
   "source": [
    "import os\n",
    "import numpy as np\n",
    "import cv2\n",
    "%matplotlib inline\n",
    "import matplotlib.pyplot as plt\n",
    "import pickle\n",
    "from keras.models import Sequential\n",
    "# from keras.layers.core import Dense, Dropout, Activation, Flatten\n",
    "# from keras.layers.convolutional import Conv2D\n",
    "# from keras.layers.pooling import MaxPooling2D\n",
    "from keras.layers import *\n",
    "from keras import optimizers\n",
    "import datetime"
   ]
  },
  {
   "cell_type": "code",
   "execution_count": 2,
   "metadata": {},
   "outputs": [
    {
     "name": "stdout",
     "output_type": "stream",
     "text": [
      "done read_dataa from ../data_pickle/data_vn_28_bienbao_full_gray.p\n"
     ]
    }
   ],
   "source": [
    "def read_data(pickle_fn):\n",
    "    if os.path.isfile(pickle_fn):\n",
    "        data= pickle.load(open(pickle_fn,'rb'))\n",
    "        print(f'done read_dataa from {pickle_fn}')\n",
    "        return data\n",
    "    else:\n",
    "        raise Exception(f\"the file: {pickle_fn} is not found\")\n",
    "data = read_data(r\"../data_pickle/data_vn_28_bienbao_full_gray.p\")"
   ]
  },
  {
   "cell_type": "code",
   "execution_count": 5,
   "metadata": {},
   "outputs": [
    {
     "name": "stdout",
     "output_type": "stream",
     "text": [
      "x_train: (9625, 32, 32, 1), y_train: (9625,)\n",
      "x_vald: (257, 32, 32, 1), y_vald: (257,)\n",
      "lbael: ['102', '103a', '103b', '104', '105', '112', '123a', '123b', '124a', '127_40', '127_50', '127_60', '127_80', '130', '131a', '205d', '207b', '207c', '208', '224', '225', '227', '239', '245a', '302a', '305', '407a', '412b']\n"
     ]
    }
   ],
   "source": [
    "X_train = data['train']['ims']\n",
    "y_train = data['train']['lbs']\n",
    "X_vald = data['vald']['ims']\n",
    "y_vald = data['vald']['lbs']\n",
    "lb_text = data['lb_text']\n",
    "print(f\"x_train: {X_train.shape}, y_train: {y_train.shape}\")\n",
    "print(f\"x_vald: {X_vald.shape}, y_vald: {y_vald.shape}\")\n",
    "print(f'lbael: {lb_text}')"
   ]
  },
  {
   "cell_type": "markdown",
   "metadata": {},
   "source": [
    "*Create model*"
   ]
  },
  {
   "cell_type": "code",
   "execution_count": 7,
   "metadata": {},
   "outputs": [
    {
     "name": "stdout",
     "output_type": "stream",
     "text": [
      "28\n"
     ]
    }
   ],
   "source": [
    "\n",
    "IMG_SIZE=32\n",
    "NUM_CLASSES = np.unique(y_train).shape[0] \n",
    "print(NUM_CLASSES)\n",
    "def create_name_model(prefix_name=None):\n",
    "    name_base = \"model_\"\n",
    "    if prefix_name != None:\n",
    "        name_base= name_base+prefix_name+\"_\"\n",
    "    time = str(datetime.datetime.now())[:16]\n",
    "    chars = \"-: \"\n",
    "    for char in chars:\n",
    "        time = time.replace(char,\"_\")\n",
    "    name_base = name_base+time+\".h5\";\n",
    "    return name_base\n",
    "\n",
    "def cnn_model():\n",
    "    model = Sequential()\n",
    "\n",
    "    model.add(Conv2D(32, (3, 3), padding='same',\n",
    "                     input_shape=( IMG_SIZE, IMG_SIZE,1),\n",
    "                     activation='relu'))\n",
    "    model.add(Conv2D(32, (3, 3), activation='relu'))\n",
    "    model.add(MaxPooling2D(pool_size=(2, 2)))\n",
    "    model.add(Dropout(0.2))\n",
    "\n",
    "    model.add(Conv2D(64, (3, 3), padding='same',\n",
    "                     activation='relu'))\n",
    "    model.add(Conv2D(64, (3, 3), activation='relu'))\n",
    "    model.add(MaxPooling2D(pool_size=(2, 2)))\n",
    "    model.add(Dropout(0.2))\n",
    "\n",
    "    model.add(Conv2D(128, (3, 3), padding='same',\n",
    "                     activation='relu'))\n",
    "    model.add(Conv2D(128, (3, 3), activation='relu'))\n",
    "    model.add(MaxPooling2D(pool_size=(2, 2)))\n",
    "    model.add(Dropout(0.2))\n",
    "\n",
    "    model.add(Flatten())\n",
    "    model.add(Dense(512, activation='relu'))\n",
    "    model.add(Dropout(0.5))\n",
    "    model.add(Dense(NUM_CLASSES, activation='softmax'))\n",
    "    return model"
   ]
  },
  {
   "cell_type": "code",
   "execution_count": 9,
   "metadata": {},
   "outputs": [
    {
     "name": "stdout",
     "output_type": "stream",
     "text": [
      "y_train: (9625, 28), y_vald: (257, 28)\n"
     ]
    }
   ],
   "source": [
    "def convert_onehot(y):\n",
    "    num_cls = np.unique(y)\n",
    "    return np.eye(num_cls.shape[0])[y]\n",
    "y_train = convert_onehot(y_train)\n",
    "y_vald = convert_onehot(y_vald)\n",
    "print(f\"y_train: {y_train.shape}, y_vald: {y_vald.shape}\")"
   ]
  },
  {
   "cell_type": "code",
   "execution_count": 11,
   "metadata": {
    "collapsed": true
   },
   "outputs": [
    {
     "name": "stdout",
     "output_type": "stream",
     "text": [
      "Train on 9625 samples, validate on 257 samples\n",
      "Epoch 1/50\n",
      "9625/9625 [==============================] - 6s 572us/step - loss: 3.2864 - acc: 0.0533 - val_loss: 3.1258 - val_acc: 0.0817- ac\n",
      "Epoch 2/50\n",
      "9625/9625 [==============================] - 5s 524us/step - loss: 2.7109 - acc: 0.2142 - val_loss: 1.9938 - val_acc: 0.4047\n",
      "Epoch 3/50\n",
      "9625/9625 [==============================] - 5s 523us/step - loss: 2.0369 - acc: 0.3966 - val_loss: 1.3338 - val_acc: 0.6187\n",
      "Epoch 4/50\n",
      "9625/9625 [==============================] - 5s 523us/step - loss: 1.5976 - acc: 0.5203 - val_loss: 1.0272 - val_acc: 0.7082 - loss: 1.6001 - acc: 0.51 - ETA: 0s - loss: 1.6009 - acc: 0.5\n",
      "Epoch 5/50\n",
      "9625/9625 [==============================] - 5s 523us/step - loss: 1.3325 - acc: 0.5971 - val_loss: 0.7706 - val_acc: 0.7626: 0 - ETA: 0s - loss: 1.3311 - acc: 0.597\n",
      "Epoch 6/50\n",
      "9625/9625 [==============================] - 5s 520us/step - loss: 1.1376 - acc: 0.6543 - val_loss: 0.6519 - val_acc: 0.7743\n",
      "Epoch 7/50\n",
      "9625/9625 [==============================] - ETA: 0s - loss: 1.0053 - acc: 0.6925- ETA: 4s - loss: 1. - ETA: 3s - loss: 1.0141  - ETA: 2s - loss: 1.0406 - acc: 0. - ETA: 2s - loss: 1.0363 - a - ETA:  - 5s 524us/step - loss: 1.0058 - acc: 0.6924 - val_loss: 0.6044 - val_acc: 0.7860\n",
      "Epoch 8/50\n",
      "9625/9625 [==============================] - 5s 519us/step - loss: 0.8712 - acc: 0.7312 - val_loss: 0.5208 - val_acc: 0.8132\n",
      "Epoch 9/50\n",
      "9625/9625 [==============================] - 5s 520us/step - loss: 0.7995 - acc: 0.7486 - val_loss: 0.4140 - val_acc: 0.863870 - ac - ETA: 1s - \n",
      "Epoch 10/50\n",
      "9625/9625 [==============================] - ETA: 0s - loss: 0.7412 - acc: 0.7722- ETA: 0s - loss: 0.7472  - ETA: 0s - loss: 0.7414 - acc: 0.7 - 5s 520us/step - loss: 0.7420 - acc: 0.7717 - val_loss: 0.4111 - val_acc: 0.8638\n",
      "Epoch 11/50\n",
      "9625/9625 [==============================] - 5s 520us/step - loss: 0.6493 - acc: 0.7972 - val_loss: 0.3562 - val_acc: 0.8833\n",
      "Epoch 12/50\n",
      "9625/9625 [==============================] - 5s 519us/step - loss: 0.6040 - acc: 0.8121 - val_loss: 0.3530 - val_acc: 0.8755\n",
      "Epoch 13/50\n",
      "9625/9625 [==============================] - 5s 519us/step - loss: 0.5484 - acc: 0.8278 - val_loss: 0.3187 - val_acc: 0.8872- loss: 0.5473 - acc: 0\n",
      "Epoch 14/50\n",
      "9625/9625 [==============================] - ETA: 0s - loss: 0.5037 - acc: 0.8432- ETA: 4s - ETA: 0s - loss: 0.5035 - acc: 0.8 - 5s 518us/step - loss: 0.5036 - acc: 0.8433 - val_loss: 0.3179 - val_acc: 0.8833\n",
      "Epoch 15/50\n",
      "9625/9625 [==============================] - 5s 519us/step - loss: 0.4774 - acc: 0.8492 - val_loss: 0.2880 - val_acc: 0.8949 ETA: 2s - loss: 0 - ETA: 0s - loss: 0.4689 - acc: 0.85 - ETA: 0s - loss: 0.4686\n",
      "Epoch 16/50\n",
      "9625/9625 [==============================] - 5s 520us/step - loss: 0.4457 - acc: 0.8589 - val_loss: 0.2831 - val_acc: 0.9144 ETA: 1s \n",
      "Epoch 17/50\n",
      "9625/9625 [==============================] - 5s 519us/step - loss: 0.4234 - acc: 0.8677 - val_loss: 0.3044 - val_acc: 0.9105\n",
      "Epoch 18/50\n",
      "9625/9625 [==============================] - 5s 517us/step - loss: 0.3858 - acc: 0.8754 - val_loss: 0.2797 - val_acc: 0.9144\n",
      "Epoch 19/50\n",
      "9625/9625 [==============================] - 5s 520us/step - loss: 0.3518 - acc: 0.8878 - val_loss: 0.2713 - val_acc: 0.9261\n",
      "Epoch 20/50\n",
      "9625/9625 [==============================] - ETA: 0s - loss: 0.3455 - acc: 0.887 - 5s 520us/step - loss: 0.3464 - acc: 0.8871 - val_loss: 0.2671 - val_acc: 0.9144\n",
      "Epoch 21/50\n",
      "9625/9625 [==============================] - 5s 520us/step - loss: 0.3234 - acc: 0.8946 - val_loss: 0.2372 - val_acc: 0.9300\n",
      "Epoch 22/50\n",
      "9625/9625 [==============================] - 5s 519us/step - loss: 0.3004 - acc: 0.9014 - val_loss: 0.2675 - val_acc: 0.9261\n",
      "Epoch 23/50\n",
      "9625/9625 [==============================] - 5s 520us/step - loss: 0.2891 - acc: 0.9042 - val_loss: 0.2549 - val_acc: 0.9144\n",
      "Epoch 24/50\n",
      "9625/9625 [==============================] - 5s 517us/step - loss: 0.2732 - acc: 0.9130 - val_loss: 0.2313 - val_acc: 0.9339\n",
      "Epoch 25/50\n",
      "9625/9625 [==============================] - 5s 519us/step - loss: 0.2632 - acc: 0.9134 - val_loss: 0.2402 - val_acc: 0.9300s - loss: - ETA: 0s - loss: 0.266\n",
      "Epoch 26/50\n",
      "9625/9625 [==============================] - 5s 517us/step - loss: 0.2483 - acc: 0.9144 - val_loss: 0.2281 - val_acc: 0.9300\n",
      "Epoch 27/50\n",
      "9625/9625 [==============================] - 5s 517us/step - loss: 0.2336 - acc: 0.9231 - val_loss: 0.2268 - val_acc: 0.9339\n",
      "Epoch 28/50\n",
      "9625/9625 [==============================] - 5s 518us/step - loss: 0.2211 - acc: 0.9248 - val_loss: 0.2427 - val_acc: 0.9261\n",
      "Epoch 29/50\n",
      "9625/9625 [==============================] - 5s 519us/step - loss: 0.2100 - acc: 0.9322 - val_loss: 0.2322 - val_acc: 0.9300  - ETA: 0s - loss: 0.2104 - ac - ETA: 0s - loss: 0.2083 - acc:\n",
      "Epoch 30/50\n",
      "9625/9625 [==============================] - 5s 517us/step - loss: 0.2020 - acc: 0.9306 - val_loss: 0.2484 - val_acc: 0.9300\n",
      "Epoch 31/50\n",
      "9625/9625 [==============================] - ETA: 0s - loss: 0.1924 - acc: 0.9392- ETA: 0s - loss: 0.1941 - acc: 0 - 5s 517us/step - loss: 0.1920 - acc: 0.9392 - val_loss: 0.2040 - val_acc: 0.9416\n",
      "Epoch 32/50\n",
      "9625/9625 [==============================] - 5s 520us/step - loss: 0.1853 - acc: 0.9394 - val_loss: 0.2301 - val_acc: 0.92618\n",
      "Epoch 33/50\n",
      "9625/9625 [==============================] - 5s 519us/step - loss: 0.1835 - acc: 0.9398 - val_loss: 0.2154 - val_acc: 0.9416\n",
      "Epoch 34/50\n",
      "9625/9625 [==============================] - 5s 519us/step - loss: 0.1678 - acc: 0.9452 - val_loss: 0.2168 - val_acc: 0.9300\n",
      "Epoch 35/50\n",
      "9625/9625 [==============================] - 5s 519us/step - loss: 0.1648 - acc: 0.9419 - val_loss: 0.2131 - val_acc: 0.9416\n",
      "Epoch 36/50\n",
      "9625/9625 [==============================] - 5s 520us/step - loss: 0.1523 - acc: 0.9499 - val_loss: 0.2101 - val_acc: 0.9377\n",
      "Epoch 37/50\n",
      "9625/9625 [==============================] - 5s 519us/step - loss: 0.1475 - acc: 0.9509 - val_loss: 0.2188 - val_acc: 0.9377s: 0.1469 -\n",
      "Epoch 38/50\n",
      "9625/9625 [==============================] - 5s 520us/step - loss: 0.1354 - acc: 0.9547 - val_loss: 0.2892 - val_acc: 0.9261\n",
      "Epoch 39/50\n",
      "9625/9625 [==============================] - 5s 520us/step - loss: 0.1399 - acc: 0.9530 - val_loss: 0.2200 - val_acc: 0.9339 - ETA: 1s - loss: 0.\n",
      "Epoch 40/50\n",
      "9625/9625 [==============================] - 5s 520us/step - loss: 0.1327 - acc: 0.9540 - val_loss: 0.2226 - val_acc: 0.9377ETA: 0s - loss: 0.1333 - acc: 0.95\n",
      "Epoch 41/50\n",
      "9625/9625 [==============================] - 5s 519us/step - loss: 0.1302 - acc: 0.9573 - val_loss: 0.2629 - val_acc: 0.9339\n",
      "Epoch 42/50\n",
      "9625/9625 [==============================] - 5s 516us/step - loss: 0.1148 - acc: 0.9611 - val_loss: 0.2120 - val_acc: 0.9416\n",
      "Epoch 43/50\n",
      "9625/9625 [==============================] - 5s 519us/step - loss: 0.1193 - acc: 0.9611 - val_loss: 0.2594 - val_acc: 0.9455\n",
      "Epoch 44/50\n",
      "9625/9625 [==============================] - 5s 519us/step - loss: 0.1091 - acc: 0.9638 - val_loss: 0.2629 - val_acc: 0.9339 4s - loss: 0.1074 - acc: 0.9 - ETA: 4\n",
      "Epoch 45/50\n",
      "9625/9625 [==============================] - 5s 521us/step - loss: 0.1062 - acc: 0.9649 - val_loss: 0.2152 - val_acc: 0.9533\n",
      "Epoch 46/50\n",
      "9625/9625 [==============================] - 5s 520us/step - loss: 0.1122 - acc: 0.9639 - val_loss: 0.2137 - val_acc: 0.9416\n",
      "Epoch 47/50\n",
      "9625/9625 [==============================] - 5s 519us/step - loss: 0.1034 - acc: 0.9647 - val_loss: 0.1989 - val_acc: 0.9455oss: 0.1034 - acc: 0. - ETA: 0s - loss: 0.1032 - acc: 0.96\n",
      "Epoch 48/50\n",
      "9625/9625 [==============================] - 5s 520us/step - loss: 0.0969 - acc: 0.9677 - val_loss: 0.2544 - val_acc: 0.9300\n",
      "Epoch 49/50\n",
      "9625/9625 [==============================] - 5s 519us/step - loss: 0.0936 - acc: 0.9679 - val_loss: 0.2518 - val_acc: 0.9494 - loss: 0.0915 - a - ETA: 0s - loss: 0.0942 - acc:\n",
      "Epoch 50/50\n",
      "9625/9625 [==============================] - 5s 522us/step - loss: 0.0926 - acc: 0.9709 - val_loss: 0.2335 - val_acc: 0.9455 acc: 0. - ETA: 2s - loss: 0.0867 - acc - ETA: 1s - \n"
     ]
    }
   ],
   "source": [
    "from keras import optimizers\n",
    "from keras.callbacks import *\n",
    "import keras\n",
    "\n",
    "model = cnn_model()\n",
    "\n",
    "tbCallBack = keras.callbacks.TensorBoard(log_dir=\"../logs\", histogram_freq=0, write_graph=True,\\\n",
    "                                         write_images=False)\n",
    "\n",
    "adam = keras.optimizers.Adam(lr=1e-4)\n",
    "hist = model.compile(loss='categorical_crossentropy',\n",
    "              optimizer=adam,\n",
    "              metrics=['accuracy'])\n",
    "\n",
    "# def lr_schedule(epoch):\n",
    "#     return lr * (0.1 ** int(epoch / 10))\n",
    "\n",
    "\n",
    "batch_size = 32\n",
    "epochs = 50\n",
    "model_name = create_name_model()\n",
    "model_best_path = r\"../model_vn/\"+model_name\n",
    "hist = model.fit(X_train, y_train,\n",
    "          batch_size=batch_size,\n",
    "          epochs=epochs,validation_data = (X_vald,y_vald),\n",
    "          callbacks=[ModelCheckpoint(model_best_path, save_best_only=True),tbCallBack ]\n",
    "          )\n",
    "\n",
    "model.save(model_name)"
   ]
  },
  {
   "cell_type": "code",
   "execution_count": 13,
   "metadata": {},
   "outputs": [
    {
     "data": {
      "image/png": "[encoded data removed]",
      "text/plain": [
       "<Figure size 720x720 with 2 Axes>"
      ]
     },
     "metadata": {
      "needs_background": "light"
     },
     "output_type": "display_data"
    }
   ],
   "source": [
    "history = hist\n",
    "def plot_acc(history):\n",
    "    plt.figure(figsize=(10,10))\n",
    "    plt.subplot(211)\n",
    "    plt.title('Cross-Entropy Loss')\n",
    "    plt.plot(history.history['loss'], label='train')\n",
    "    plt.plot(history.history['val_loss'], label='vald')\n",
    "    plt.legend()\n",
    "\n",
    "    plt.subplot(212)\n",
    "    plt.title('Accuracy')\n",
    "    plt.plot(history.history['acc'], label='train')\n",
    "    plt.plot(history.history['val_acc'], label='vald')\n",
    "    plt.legend()\n",
    "    plt.show()\n",
    "\n",
    "plot_acc(hist)"
   ]
  },
  {
   "cell_type": "code",
   "execution_count": 14,
   "metadata": {},
   "outputs": [],
   "source": [
    "def plot_confusion_matrix(cm, classes,\n",
    "                          normalize=False,\n",
    "                          title='Confusion matrix',\n",
    "                          cmap=plt.cm.Blues):\n",
    "    \"\"\"\n",
    "    This function prints and plots the confusion matrix.\n",
    "    Normalization can be applied by setting `normalize=True`.\n",
    "    \"\"\"\n",
    "    if normalize:\n",
    "        cm = cm.astype('float') / cm.sum(axis=1)[:, np.newaxis]\n",
    "        print(\"Normalized confusion matrix\")\n",
    "    else:\n",
    "        print('Confusion matrix, without normalization')\n",
    "\n",
    "    print(cm)\n",
    "\n",
    "    plt.imshow(cm, interpolation='nearest', cmap=cmap)\n",
    "    plt.title(title)\n",
    "    plt.colorbar()\n",
    "    tick_marks = np.arange(len(classes))\n",
    "    plt.xticks(tick_marks, classes, rotation=45)\n",
    "    plt.yticks(tick_marks, classes)\n",
    "\n",
    "    fmt = '.2f' if normalize else 'd'\n",
    "    thresh = cm.max() / 2.\n",
    "    for i, j in itertools.product(range(cm.shape[0]), range(cm.shape[1])):\n",
    "        plt.text(j, i, format(cm[i, j], fmt),\n",
    "                 horizontalalignment=\"center\",\n",
    "                 color=\"white\" if cm[i, j] > thresh else \"black\")\n",
    "\n",
    "    plt.ylabel('True label')\n",
    "    plt.xlabel('Predicted label')\n",
    "    plt.tight_layout()\n",
    "\n",
    "    \n",
    "cnf_matrix = confusion_matrix(y_true, y_pred_cls)\n",
    "np.set_printoptions(precision=2)\n",
    "\n",
    "classes = np.arange(0,43);\n",
    "classes = np.unique(y_true)\n",
    "\n",
    "plt.figure(figsize=(40,20))\n",
    "plot_confusion_matrix(cnf_matrix, classes=classes,\n",
    "                      title='Confusion matrix, without Normalized ')\n",
    "plt.figure(figsize=(40,20))\n",
    "plot_confusion_matrix(cnf_matrix, classes=classes, normalize=True,\n",
    "                      title='Normalized  Confusion matrix')\n",
    "plt.show()"
   ]
  },
  {
   "cell_type": "code",
   "execution_count": 11,
   "metadata": {},
   "outputs": [],
   "source": []
  },
  {
   "cell_type": "code",
   "execution_count": null,
   "metadata": {},
   "outputs": [],
   "source": []
  }
 ],
 "metadata": {
  "kernelspec": {
   "display_name": "Python 3",
   "language": "python",
   "name": "python3"
  },
  "language_info": {
   "codemirror_mode": {
    "name": "ipython",
    "version": 3
   },
   "file_extension": ".py",
   "mimetype": "text/x-python",
   "name": "python",
   "nbconvert_exporter": "python",
   "pygments_lexer": "ipython3",
   "version": "3.6.7"
  }
 },
 "nbformat": 4,
 "nbformat_minor": 2
}
